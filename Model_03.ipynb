{
 "cells": [
  {
   "cell_type": "code",
   "execution_count": 1,
   "id": "5e3830b4",
   "metadata": {},
   "outputs": [
    {
     "name": "stdout",
     "output_type": "stream",
     "text": [
      "Requirement already satisfied: ipyparallel in c:\\programdata\\anaconda3\\lib\\site-packages (8.0.0)\n",
      "Requirement already satisfied: ipython>=4 in c:\\programdata\\anaconda3\\lib\\site-packages (from ipyparallel) (7.29.0)\n",
      "Requirement already satisfied: jupyter-client in c:\\programdata\\anaconda3\\lib\\site-packages (from ipyparallel) (7.0.1)\n",
      "Requirement already satisfied: decorator in c:\\programdata\\anaconda3\\lib\\site-packages (from ipyparallel) (5.1.0)\n",
      "Requirement already satisfied: python-dateutil>=2.1 in c:\\programdata\\anaconda3\\lib\\site-packages (from ipyparallel) (2.8.2)\n",
      "Requirement already satisfied: tqdm in c:\\programdata\\anaconda3\\lib\\site-packages (from ipyparallel) (4.62.3)\n",
      "Requirement already satisfied: traitlets>=4.3 in c:\\programdata\\anaconda3\\lib\\site-packages (from ipyparallel) (5.1.0)\n",
      "Requirement already satisfied: ipykernel>=4.4 in c:\\programdata\\anaconda3\\lib\\site-packages (from ipyparallel) (6.4.1)\n",
      "Requirement already satisfied: entrypoints in c:\\programdata\\anaconda3\\lib\\site-packages (from ipyparallel) (0.3)\n",
      "Requirement already satisfied: pyzmq>=18 in c:\\programdata\\anaconda3\\lib\\site-packages (from ipyparallel) (22.2.1)\n",
      "Requirement already satisfied: tornado>=5.1 in c:\\programdata\\anaconda3\\lib\\site-packages (from ipyparallel) (6.1)\n",
      "Requirement already satisfied: psutil in c:\\programdata\\anaconda3\\lib\\site-packages (from ipyparallel) (5.8.0)\n",
      "Requirement already satisfied: debugpy<2.0,>=1.0.0 in c:\\programdata\\anaconda3\\lib\\site-packages (from ipykernel>=4.4->ipyparallel) (1.4.1)\n",
      "Requirement already satisfied: matplotlib-inline<0.2.0,>=0.1.0 in c:\\programdata\\anaconda3\\lib\\site-packages (from ipykernel>=4.4->ipyparallel) (0.1.2)\n",
      "Requirement already satisfied: ipython-genutils in c:\\programdata\\anaconda3\\lib\\site-packages (from ipykernel>=4.4->ipyparallel) (0.2.0)\n",
      "Requirement already satisfied: backcall in c:\\programdata\\anaconda3\\lib\\site-packages (from ipython>=4->ipyparallel) (0.2.0)\n",
      "Requirement already satisfied: jedi>=0.16 in c:\\programdata\\anaconda3\\lib\\site-packages (from ipython>=4->ipyparallel) (0.17.2)\n",
      "Requirement already satisfied: pygments in c:\\programdata\\anaconda3\\lib\\site-packages (from ipython>=4->ipyparallel) (2.10.0)\n",
      "Requirement already satisfied: colorama in c:\\programdata\\anaconda3\\lib\\site-packages (from ipython>=4->ipyparallel) (0.4.4)\n",
      "Requirement already satisfied: setuptools>=18.5 in c:\\programdata\\anaconda3\\lib\\site-packages (from ipython>=4->ipyparallel) (58.0.4)\n",
      "Requirement already satisfied: pickleshare in c:\\programdata\\anaconda3\\lib\\site-packages (from ipython>=4->ipyparallel) (0.7.5)\n",
      "Requirement already satisfied: prompt-toolkit!=3.0.0,!=3.0.1,<3.1.0,>=2.0.0 in c:\\programdata\\anaconda3\\lib\\site-packages (from ipython>=4->ipyparallel) (3.0.20)\n",
      "Requirement already satisfied: parso<0.8.0,>=0.7.0 in c:\\programdata\\anaconda3\\lib\\site-packages (from jedi>=0.16->ipython>=4->ipyparallel) (0.7.0)\n",
      "Requirement already satisfied: jupyter-core>=4.6.0 in c:\\programdata\\anaconda3\\lib\\site-packages (from jupyter-client->ipyparallel) (4.9.1)\n",
      "Requirement already satisfied: nest-asyncio>=1.5 in c:\\programdata\\anaconda3\\lib\\site-packages (from jupyter-client->ipyparallel) (1.5.1)\n",
      "Requirement already satisfied: pywin32>=1.0 in c:\\programdata\\anaconda3\\lib\\site-packages (from jupyter-core>=4.6.0->jupyter-client->ipyparallel) (228)\n",
      "Requirement already satisfied: wcwidth in c:\\programdata\\anaconda3\\lib\\site-packages (from prompt-toolkit!=3.0.0,!=3.0.1,<3.1.0,>=2.0.0->ipython>=4->ipyparallel) (0.2.5)\n",
      "Requirement already satisfied: six>=1.5 in c:\\programdata\\anaconda3\\lib\\site-packages (from python-dateutil>=2.1->ipyparallel) (1.16.0)\n"
     ]
    }
   ],
   "source": [
    "!pip install ipyparallel"
   ]
  },
  {
   "cell_type": "code",
   "execution_count": 2,
   "id": "9e3e9615",
   "metadata": {},
   "outputs": [
    {
     "name": "stdout",
     "output_type": "stream",
     "text": [
      "Populating the interactive namespace from numpy and matplotlib\n"
     ]
    },
    {
     "name": "stderr",
     "output_type": "stream",
     "text": [
      "C:\\ProgramData\\Anaconda3\\lib\\site-packages\\IPython\\core\\magics\\pylab.py:159: UserWarning: pylab import has clobbered these variables: ['plot']\n",
      "`%matplotlib` prevents importing * from pylab and numpy\n",
      "  warn(\"pylab import has clobbered these variables: %s\"  % clobbered +\n"
     ]
    }
   ],
   "source": [
    "import pandas as pd\n",
    "from pandas import Series, DataFrame\n",
    "import numpy as np\n",
    "import matplotlib as plot\n",
    "import seaborn as sns\n",
    "import warnings\n",
    "from patsy import dmatrices\n",
    "%pylab inline\n",
    "warnings.filterwarnings('ignore')"
   ]
  },
  {
   "cell_type": "code",
   "execution_count": 3,
   "id": "0f9b9b42",
   "metadata": {},
   "outputs": [],
   "source": [
    "df = pd.read_csv('./data/crime_test.csv')"
   ]
  },
  {
   "cell_type": "code",
   "execution_count": 4,
   "id": "7cacb2d0",
   "metadata": {},
   "outputs": [],
   "source": [
    "#droping x and y coordinates since we have latitude and logitude already\n",
    "df.index = pd.DatetimeIndex(df.Date)\n",
    "df['Month'] = df.index.month\n",
    "df['Day'] = df.index.day\n",
    "df = df.drop(['Date','Description','Location', 'X Coordinate', 'Y Coordinate', 'COMMUNITY AREA NAME'], axis = 1).drop_duplicates()\n"
   ]
  },
  {
   "cell_type": "code",
   "execution_count": 5,
   "id": "b2ab762b",
   "metadata": {},
   "outputs": [
    {
     "data": {
      "text/plain": [
       "Primary Type                                     object\n",
       "Location Description                             object\n",
       "Arrest                                             bool\n",
       "Domestic                                           bool\n",
       "Beat                                              int64\n",
       "District                                        float64\n",
       "Ward                                            float64\n",
       "Community Area                                    int64\n",
       "Year                                              int64\n",
       "Latitude                                        float64\n",
       "Longitude                                       float64\n",
       "PERCENT OF HOUSING CROWDED                      float64\n",
       "PERCENT HOUSEHOLDS BELOW POVERTY                float64\n",
       "PERCENT AGED 16+ UNEMPLOYED                     float64\n",
       "PERCENT AGED 25+ WITHOUT HIGH SCHOOL DIPLOMA    float64\n",
       "PERCENT AGED UNDER 18 OR OVER 64                float64\n",
       "PER CAPITA INCOME                               float64\n",
       "HARDSHIP INDEX                                  float64\n",
       "Month                                             int64\n",
       "Day                                               int64\n",
       "dtype: object"
      ]
     },
     "execution_count": 5,
     "metadata": {},
     "output_type": "execute_result"
    }
   ],
   "source": [
    "df.dtypes"
   ]
  },
  {
   "cell_type": "code",
   "execution_count": 6,
   "id": "1b122dbd",
   "metadata": {},
   "outputs": [
    {
     "name": "stdout",
     "output_type": "stream",
     "text": [
      "none\n",
      "none\n"
     ]
    }
   ],
   "source": [
    "# transform into categorical \n",
    "for col in df.columns:\n",
    "    if col == 'Longitude':\n",
    "        \n",
    "        print('none')\n",
    "    elif col == 'Latitude':\n",
    "        print('none')\n",
    "    else:\n",
    "        df[col] = pd.Categorical(df[col])"
   ]
  },
  {
   "cell_type": "markdown",
   "id": "6e3b72a4",
   "metadata": {},
   "source": [
    "## Logistics Regression"
   ]
  },
  {
   "cell_type": "code",
   "execution_count": 7,
   "id": "d5bf610f",
   "metadata": {},
   "outputs": [
    {
     "data": {
      "text/plain": [
       "Index(['Primary Type', 'Location Description', 'Arrest', 'Domestic', 'Beat',\n",
       "       'District', 'Ward', 'Community Area', 'Year', 'Latitude', 'Longitude',\n",
       "       'PERCENT OF HOUSING CROWDED', 'PERCENT HOUSEHOLDS BELOW POVERTY',\n",
       "       'PERCENT AGED 16+ UNEMPLOYED',\n",
       "       'PERCENT AGED 25+ WITHOUT HIGH SCHOOL DIPLOMA',\n",
       "       'PERCENT AGED UNDER 18 OR OVER 64', 'PER CAPITA INCOME ',\n",
       "       'HARDSHIP INDEX', 'Month', 'Day'],\n",
       "      dtype='object')"
      ]
     },
     "execution_count": 7,
     "metadata": {},
     "output_type": "execute_result"
    }
   ],
   "source": [
    "df.columns"
   ]
  },
  {
   "cell_type": "code",
   "execution_count": 8,
   "id": "cb598cc7",
   "metadata": {},
   "outputs": [],
   "source": [
    "df_model = df\n",
    "df_model.rename(columns={'PERCENT OF HOUSING CROWDED':'percent_housing_crowded'}, inplace=True)\n",
    "df_model.rename(columns={'PERCENT HOUSEHOLDS BELOW POVERTY':'percent_below_poverty'}, inplace=True)\n",
    "df_model.rename(columns={'PERCENT AGED 16+ UNEMPLOYED':'percent_above_16_unemployed'}, inplace=True)\n",
    "df_model.rename(columns={'PERCENT AGED 25+ WITHOUT HIGH SCHOOL DIPLOMA':'percent_above_25_no_diploma'}, inplace=True)\n",
    "df_model.rename(columns={'PERCENT AGED UNDER 18 OR OVER 64':'percent_old_young'}, inplace=True)\n",
    "df_model.rename(columns={'PER CAPITA INCOME ':'per_capita_income'}, inplace=True)\n",
    "df_model.rename(columns={'HARDSHIP INDEX':'hardship_index'}, inplace=True)\n",
    "df_model.rename(columns={'Location Description':'location_description'}, inplace=True)\n",
    "df_model.rename(columns={'Community Area':'community_area'}, inplace=True)\n",
    "df_model.rename(columns={'Primary Type':'primary_type'}, inplace=True)"
   ]
  },
  {
   "cell_type": "code",
   "execution_count": 9,
   "id": "f2c9df85",
   "metadata": {},
   "outputs": [],
   "source": [
    "Y, X = dmatrices('primary_type ~ 0  + Month + Day + location_description + District + Ward + Latitude + Longitude + percent_housing_crowded + percent_below_poverty + percent_above_16_unemployed + percent_above_25_no_diploma + percent_old_young + per_capita_income + hardship_index', df_model, return_type = 'dataframe')"
   ]
  },
  {
   "cell_type": "code",
   "execution_count": 11,
   "id": "edfab0d5",
   "metadata": {},
   "outputs": [],
   "source": [
    "y_theft = Y['primary_type[THEFT]'].values\n"
   ]
  },
  {
   "cell_type": "code",
   "execution_count": 12,
   "id": "aee4d5ef",
   "metadata": {},
   "outputs": [],
   "source": [
    "from sklearn.model_selection import train_test_split\n",
    "from sklearn import metrics\n",
    "from sklearn.linear_model import LogisticRegression"
   ]
  },
  {
   "cell_type": "code",
   "execution_count": 13,
   "id": "cf5bdf6e",
   "metadata": {},
   "outputs": [],
   "source": [
    "X_train, X_test_theft, y_train_theft, y_test_theft = train_test_split(X, y_theft, test_size=0.3, random_state=1)"
   ]
  },
  {
   "cell_type": "code",
   "execution_count": 14,
   "id": "2fa3ba2f",
   "metadata": {},
   "outputs": [],
   "source": [
    "log_model = LogisticRegression()"
   ]
  },
  {
   "cell_type": "code",
   "execution_count": 15,
   "id": "8d1d6e62",
   "metadata": {},
   "outputs": [],
   "source": [
    "log_crime = log_model.fit(X_train, y_train_theft)"
   ]
  },
  {
   "cell_type": "code",
   "execution_count": 16,
   "id": "9456ab8c",
   "metadata": {},
   "outputs": [
    {
     "name": "stdout",
     "output_type": "stream",
     "text": [
      "Accuracy: 0.7980943784163281\n",
      "\n",
      " Features with the most NEGATIVE weights:\n",
      "\n",
      "location_description[T.SIDEWALK]\n",
      "location_description[T.ALLEY]\n",
      "location_description[T.APARTMENT]\n",
      "location_description[T.RESIDENCE-GARAGE]\n",
      "location_description[T.RESIDENCE]\n",
      "location_description[T.CHA PARKING LOT/GROUNDS]\n",
      "Ward[T.26.0]\n",
      "District[T.11.0]\n",
      "location_description[T.CTA PLATFORM]\n",
      "location_description[T.BANK]\n",
      "\n",
      " Features with the most POSITIVE weights:\n",
      "\n",
      "location_description[T.VEHICLE NON-COMMERCIAL]\n",
      "location_description[T.CONVENIENCE STORE]\n",
      "Ward[T.42.0]\n",
      "location_description[T.RESIDENTIAL YARD (FRONT/BACK)]\n",
      "location_description[T.CTA TRAIN]\n",
      "location_description[T.ATHLETIC CLUB]\n",
      "location_description[T.DRUG STORE]\n",
      "location_description[T.SMALL RETAIL STORE]\n",
      "location_description[T.GROCERY FOOD STORE]\n",
      "location_description[T.DEPARTMENT STORE]\n"
     ]
    }
   ],
   "source": [
    "log_pred_theft = log_model.predict(X_test_theft)\n",
    "print('Accuracy:',metrics.accuracy_score(y_test_theft,log_pred_theft))\n",
    "\n",
    "##checking weight of the variables:\n",
    "\n",
    "log_weight = Series(log_model.coef_[0],index=X.columns.values)\n",
    "\n",
    "print('\\n Features with the most NEGATIVE weights:\\n')\n",
    "    \n",
    "for i in log_weight.sort_values()[:10].index:\n",
    "    print(i)\n",
    "    \n",
    "    \n",
    "print('\\n Features with the most POSITIVE weights:\\n')\n",
    "    \n",
    "for i in log_weight.sort_values()[-10:].index:\n",
    "    print(i)"
   ]
  },
  {
   "cell_type": "code",
   "execution_count": 17,
   "id": "11332b86",
   "metadata": {},
   "outputs": [
    {
     "data": {
      "text/plain": [
       "location_description[T.BANK]                      -0.338642\n",
       "location_description[T.CTA PLATFORM]              -0.339429\n",
       "District[T.11.0]                                  -0.360413\n",
       "Ward[T.26.0]                                      -0.411736\n",
       "location_description[T.CHA PARKING LOT/GROUNDS]   -0.416921\n",
       "location_description[T.RESIDENCE]                 -0.777286\n",
       "location_description[T.RESIDENCE-GARAGE]          -0.965853\n",
       "location_description[T.APARTMENT]                 -1.028572\n",
       "location_description[T.ALLEY]                     -1.204964\n",
       "location_description[T.SIDEWALK]                  -1.366094\n",
       "dtype: float64"
      ]
     },
     "execution_count": 17,
     "metadata": {},
     "output_type": "execute_result"
    }
   ],
   "source": [
    "log_weight.sort_values(ascending=False)[-10:]"
   ]
  },
  {
   "cell_type": "code",
   "execution_count": 18,
   "id": "b1aaa09d",
   "metadata": {},
   "outputs": [
    {
     "data": {
      "text/plain": [
       "location_description[T.DEPARTMENT STORE]                 2.170502\n",
       "location_description[T.GROCERY FOOD STORE]               1.596241\n",
       "location_description[T.SMALL RETAIL STORE]               1.324423\n",
       "location_description[T.DRUG STORE]                       0.708858\n",
       "location_description[T.ATHLETIC CLUB]                    0.499147\n",
       "location_description[T.CTA TRAIN]                        0.488374\n",
       "location_description[T.RESIDENTIAL YARD (FRONT/BACK)]    0.452982\n",
       "Ward[T.42.0]                                             0.363881\n",
       "location_description[T.CONVENIENCE STORE]                0.351235\n",
       "location_description[T.VEHICLE NON-COMMERCIAL]           0.292782\n",
       "dtype: float64"
      ]
     },
     "execution_count": 18,
     "metadata": {},
     "output_type": "execute_result"
    }
   ],
   "source": [
    "log_weight.sort_values(ascending=False)[:10]"
   ]
  }
 ],
 "metadata": {
  "kernelspec": {
   "display_name": "Python 3 (ipykernel)",
   "language": "python",
   "name": "python3"
  },
  "language_info": {
   "codemirror_mode": {
    "name": "ipython",
    "version": 3
   },
   "file_extension": ".py",
   "mimetype": "text/x-python",
   "name": "python",
   "nbconvert_exporter": "python",
   "pygments_lexer": "ipython3",
   "version": "3.8.8"
  }
 },
 "nbformat": 4,
 "nbformat_minor": 5
}
